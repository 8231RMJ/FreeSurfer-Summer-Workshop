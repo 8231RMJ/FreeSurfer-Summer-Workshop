{
 "cells": [
  {
   "cell_type": "markdown",
   "metadata": {
    "collapsed": true
   },
   "source": [
    "# Jupyter Notebooks\n",
    "\n",
    "If you've made it this far, congratulations! This is a jupyter notebook running in a bourne again shell (bash). \n",
    "    👉 Double click any cell box to edit it's contents. \n",
    "    👉 You can click the run button >| to execute the cell's contents.\n",
    "\n",
    "\n",
    "\n",
    "## Let's find a way to share our discovery with everyone"
   ]
  },
  {
   "cell_type": "code",
   "execution_count": 1,
   "metadata": {
    "collapsed": true
   },
   "outputs": [],
   "source": [
    "open /Applications/Slack.app/Contents/MacOS/Slack"
   ]
  },
  {
   "cell_type": "markdown",
   "metadata": {
    "collapsed": true
   },
   "source": [
    "## Unix\n",
    "This notebook can execute any commands you'd normally be able to type into a unix shell (i.e. in the iTerm session).\n",
    "\n",
    "What is Unix? Let's dive in"
   ]
  },
  {
   "cell_type": "code",
   "execution_count": 2,
   "metadata": {},
   "outputs": [
    {
     "name": "stdout",
     "output_type": "stream",
     "text": [
      "The file /Users/Shady/FreeSurfer-Summer-Workshop/~/Documents/Github/FreeSurfer-Summer-Workshop/Presentation|04|2017-06-26 does not exist.\n"
     ]
    },
    {
     "ename": "",
     "evalue": "1",
     "output_type": "error",
     "traceback": []
    }
   ],
   "source": [
    "open '~/FreeSurfer-Summer-Workshop/Presentation|04|2017-06-26'"
   ]
  },
  {
   "cell_type": "markdown",
   "metadata": {},
   "source": [
    "## Did the command properly execute? If not can you guess why? How can we fix this?"
   ]
  },
  {
   "cell_type": "code",
   "execution_count": null,
   "metadata": {
    "collapsed": true
   },
   "outputs": [],
   "source": []
  }
 ],
 "metadata": {
  "kernelspec": {
   "display_name": "Bash",
   "language": "bash",
   "name": "bash"
  },
  "language_info": {
   "codemirror_mode": "shell",
   "file_extension": ".sh",
   "mimetype": "text/x-sh",
   "name": "bash"
  }
 },
 "nbformat": 4,
 "nbformat_minor": 2
}
