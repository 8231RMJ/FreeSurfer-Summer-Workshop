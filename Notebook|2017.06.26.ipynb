{
 "cells": [
  {
   "cell_type": "markdown",
   "metadata": {
    "collapsed": true
   },
   "source": [
    "# Jupyter Notebooks\n",
    "\n",
    "If you've made it this far, congratulations! This is a jupyter notebook running in a bourne again shell (bash). \n",
    "    👉 Double click any cell box to edit it's contents. \n",
    "    👉 You can click the run button >| to execute the cell's contents.\n",
    "\n",
    "    ## Let's find a way to share our discovery with everyone"
   ]
  },
  {
   "cell_type": "code",
   "execution_count": 2,
   "metadata": {},
   "outputs": [],
   "source": [
    "open /Applications/Slack.app/Contents/MacOS/Slack"
   ]
  },
  {
   "cell_type": "code",
   "execution_count": null,
   "metadata": {
    "collapsed": true
   },
   "outputs": [],
   "source": []
  }
 ],
 "metadata": {
  "kernelspec": {
   "display_name": "Bash",
   "language": "bash",
   "name": "bash"
  },
  "language_info": {
   "codemirror_mode": "shell",
   "file_extension": ".sh",
   "mimetype": "text/x-sh",
   "name": "bash"
  }
 },
 "nbformat": 4,
 "nbformat_minor": 2
}
